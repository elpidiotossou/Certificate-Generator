{
 "cells": [
  {
   "cell_type": "code",
   "execution_count": 15,
   "id": "dba35cfe",
   "metadata": {
    "scrolled": false
   },
   "outputs": [
    {
     "name": "stdout",
     "output_type": "stream",
     "text": [
      "Template image loaded and converted to RGB mode.\n",
      "Certificate image for Esther and Nhyira generated and saved as C:/Users/publi/Desktop/Data Science/Certificates5_JPG\\Esther_and_Nhyira.jpg.\n"
     ]
    },
    {
     "name": "stderr",
     "output_type": "stream",
     "text": [
      "C:\\Users\\publi\\AppData\\Local\\Temp\\ipykernel_11784\\707956733.py:55: DeprecationWarning: getsize is deprecated and will be removed in Pillow 10 (2023-07-01). Use getbbox or getlength instead.\n",
      "  if position_font.getsize(line + word)[0] <= max_position_width:\n",
      "C:\\Users\\publi\\AppData\\Local\\Temp\\ipykernel_11784\\707956733.py:63: DeprecationWarning: getsize is deprecated and will be removed in Pillow 10 (2023-07-01). Use getbbox or getlength instead.\n",
      "  total_position_height = len(position_lines) * position_font.getsize(position_lines[0])[1]\n",
      "C:\\Users\\publi\\AppData\\Local\\Temp\\ipykernel_11784\\707956733.py:68: DeprecationWarning: textsize is deprecated and will be removed in Pillow 10 (2023-07-01). Use textbbox or textlength instead.\n",
      "  text_width, text_height = draw.textsize(line, font=position_font)\n",
      "C:\\Users\\publi\\AppData\\Local\\Temp\\ipykernel_11784\\707956733.py:55: DeprecationWarning: getsize is deprecated and will be removed in Pillow 10 (2023-07-01). Use getbbox or getlength instead.\n",
      "  if position_font.getsize(line + word)[0] <= max_position_width:\n",
      "C:\\Users\\publi\\AppData\\Local\\Temp\\ipykernel_11784\\707956733.py:63: DeprecationWarning: getsize is deprecated and will be removed in Pillow 10 (2023-07-01). Use getbbox or getlength instead.\n",
      "  total_position_height = len(position_lines) * position_font.getsize(position_lines[0])[1]\n",
      "C:\\Users\\publi\\AppData\\Local\\Temp\\ipykernel_11784\\707956733.py:68: DeprecationWarning: textsize is deprecated and will be removed in Pillow 10 (2023-07-01). Use textbbox or textlength instead.\n",
      "  text_width, text_height = draw.textsize(line, font=position_font)\n"
     ]
    },
    {
     "name": "stdout",
     "output_type": "stream",
     "text": [
      "Certificate image for Shadrach and Bismark generated and saved as C:/Users/publi/Desktop/Data Science/Certificates5_JPG\\Shadrach_and_Bismark.jpg.\n",
      "Certificate image for Shadrack generated and saved as C:/Users/publi/Desktop/Data Science/Certificates5_JPG\\Shadrack.jpg.\n"
     ]
    },
    {
     "name": "stderr",
     "output_type": "stream",
     "text": [
      "C:\\Users\\publi\\AppData\\Local\\Temp\\ipykernel_11784\\707956733.py:55: DeprecationWarning: getsize is deprecated and will be removed in Pillow 10 (2023-07-01). Use getbbox or getlength instead.\n",
      "  if position_font.getsize(line + word)[0] <= max_position_width:\n",
      "C:\\Users\\publi\\AppData\\Local\\Temp\\ipykernel_11784\\707956733.py:63: DeprecationWarning: getsize is deprecated and will be removed in Pillow 10 (2023-07-01). Use getbbox or getlength instead.\n",
      "  total_position_height = len(position_lines) * position_font.getsize(position_lines[0])[1]\n",
      "C:\\Users\\publi\\AppData\\Local\\Temp\\ipykernel_11784\\707956733.py:68: DeprecationWarning: textsize is deprecated and will be removed in Pillow 10 (2023-07-01). Use textbbox or textlength instead.\n",
      "  text_width, text_height = draw.textsize(line, font=position_font)\n",
      "C:\\Users\\publi\\AppData\\Local\\Temp\\ipykernel_11784\\707956733.py:55: DeprecationWarning: getsize is deprecated and will be removed in Pillow 10 (2023-07-01). Use getbbox or getlength instead.\n",
      "  if position_font.getsize(line + word)[0] <= max_position_width:\n",
      "C:\\Users\\publi\\AppData\\Local\\Temp\\ipykernel_11784\\707956733.py:63: DeprecationWarning: getsize is deprecated and will be removed in Pillow 10 (2023-07-01). Use getbbox or getlength instead.\n",
      "  total_position_height = len(position_lines) * position_font.getsize(position_lines[0])[1]\n",
      "C:\\Users\\publi\\AppData\\Local\\Temp\\ipykernel_11784\\707956733.py:68: DeprecationWarning: textsize is deprecated and will be removed in Pillow 10 (2023-07-01). Use textbbox or textlength instead.\n",
      "  text_width, text_height = draw.textsize(line, font=position_font)\n"
     ]
    },
    {
     "name": "stdout",
     "output_type": "stream",
     "text": [
      "Certificate image for Sheritta generated and saved as C:/Users/publi/Desktop/Data Science/Certificates5_JPG\\Sheritta.jpg.\n",
      "Certificate image for Ella Darkey generated and saved as C:/Users/publi/Desktop/Data Science/Certificates5_JPG\\Ella_Darkey.jpg.\n"
     ]
    },
    {
     "name": "stderr",
     "output_type": "stream",
     "text": [
      "C:\\Users\\publi\\AppData\\Local\\Temp\\ipykernel_11784\\707956733.py:55: DeprecationWarning: getsize is deprecated and will be removed in Pillow 10 (2023-07-01). Use getbbox or getlength instead.\n",
      "  if position_font.getsize(line + word)[0] <= max_position_width:\n",
      "C:\\Users\\publi\\AppData\\Local\\Temp\\ipykernel_11784\\707956733.py:63: DeprecationWarning: getsize is deprecated and will be removed in Pillow 10 (2023-07-01). Use getbbox or getlength instead.\n",
      "  total_position_height = len(position_lines) * position_font.getsize(position_lines[0])[1]\n",
      "C:\\Users\\publi\\AppData\\Local\\Temp\\ipykernel_11784\\707956733.py:68: DeprecationWarning: textsize is deprecated and will be removed in Pillow 10 (2023-07-01). Use textbbox or textlength instead.\n",
      "  text_width, text_height = draw.textsize(line, font=position_font)\n",
      "C:\\Users\\publi\\AppData\\Local\\Temp\\ipykernel_11784\\707956733.py:55: DeprecationWarning: getsize is deprecated and will be removed in Pillow 10 (2023-07-01). Use getbbox or getlength instead.\n",
      "  if position_font.getsize(line + word)[0] <= max_position_width:\n",
      "C:\\Users\\publi\\AppData\\Local\\Temp\\ipykernel_11784\\707956733.py:63: DeprecationWarning: getsize is deprecated and will be removed in Pillow 10 (2023-07-01). Use getbbox or getlength instead.\n",
      "  total_position_height = len(position_lines) * position_font.getsize(position_lines[0])[1]\n",
      "C:\\Users\\publi\\AppData\\Local\\Temp\\ipykernel_11784\\707956733.py:68: DeprecationWarning: textsize is deprecated and will be removed in Pillow 10 (2023-07-01). Use textbbox or textlength instead.\n",
      "  text_width, text_height = draw.textsize(line, font=position_font)\n"
     ]
    },
    {
     "name": "stdout",
     "output_type": "stream",
     "text": [
      "Certificate image for Shadrack generated and saved as C:/Users/publi/Desktop/Data Science/Certificates5_JPG\\Shadrack.jpg.\n"
     ]
    },
    {
     "name": "stderr",
     "output_type": "stream",
     "text": [
      "C:\\Users\\publi\\AppData\\Local\\Temp\\ipykernel_11784\\707956733.py:55: DeprecationWarning: getsize is deprecated and will be removed in Pillow 10 (2023-07-01). Use getbbox or getlength instead.\n",
      "  if position_font.getsize(line + word)[0] <= max_position_width:\n",
      "C:\\Users\\publi\\AppData\\Local\\Temp\\ipykernel_11784\\707956733.py:63: DeprecationWarning: getsize is deprecated and will be removed in Pillow 10 (2023-07-01). Use getbbox or getlength instead.\n",
      "  total_position_height = len(position_lines) * position_font.getsize(position_lines[0])[1]\n",
      "C:\\Users\\publi\\AppData\\Local\\Temp\\ipykernel_11784\\707956733.py:68: DeprecationWarning: textsize is deprecated and will be removed in Pillow 10 (2023-07-01). Use textbbox or textlength instead.\n",
      "  text_width, text_height = draw.textsize(line, font=position_font)\n"
     ]
    },
    {
     "name": "stdout",
     "output_type": "stream",
     "text": [
      "Certificate image for Francis Appiah generated and saved as C:/Users/publi/Desktop/Data Science/Certificates5_JPG\\Francis_Appiah.jpg.\n",
      "Certificate image for Nana Baffour generated and saved as C:/Users/publi/Desktop/Data Science/Certificates5_JPG\\Nana_Baffour.jpg.\n"
     ]
    },
    {
     "name": "stderr",
     "output_type": "stream",
     "text": [
      "C:\\Users\\publi\\AppData\\Local\\Temp\\ipykernel_11784\\707956733.py:55: DeprecationWarning: getsize is deprecated and will be removed in Pillow 10 (2023-07-01). Use getbbox or getlength instead.\n",
      "  if position_font.getsize(line + word)[0] <= max_position_width:\n",
      "C:\\Users\\publi\\AppData\\Local\\Temp\\ipykernel_11784\\707956733.py:63: DeprecationWarning: getsize is deprecated and will be removed in Pillow 10 (2023-07-01). Use getbbox or getlength instead.\n",
      "  total_position_height = len(position_lines) * position_font.getsize(position_lines[0])[1]\n",
      "C:\\Users\\publi\\AppData\\Local\\Temp\\ipykernel_11784\\707956733.py:68: DeprecationWarning: textsize is deprecated and will be removed in Pillow 10 (2023-07-01). Use textbbox or textlength instead.\n",
      "  text_width, text_height = draw.textsize(line, font=position_font)\n",
      "C:\\Users\\publi\\AppData\\Local\\Temp\\ipykernel_11784\\707956733.py:55: DeprecationWarning: getsize is deprecated and will be removed in Pillow 10 (2023-07-01). Use getbbox or getlength instead.\n",
      "  if position_font.getsize(line + word)[0] <= max_position_width:\n",
      "C:\\Users\\publi\\AppData\\Local\\Temp\\ipykernel_11784\\707956733.py:63: DeprecationWarning: getsize is deprecated and will be removed in Pillow 10 (2023-07-01). Use getbbox or getlength instead.\n",
      "  total_position_height = len(position_lines) * position_font.getsize(position_lines[0])[1]\n",
      "C:\\Users\\publi\\AppData\\Local\\Temp\\ipykernel_11784\\707956733.py:68: DeprecationWarning: textsize is deprecated and will be removed in Pillow 10 (2023-07-01). Use textbbox or textlength instead.\n",
      "  text_width, text_height = draw.textsize(line, font=position_font)\n"
     ]
    },
    {
     "name": "stdout",
     "output_type": "stream",
     "text": [
      "Certificate image for Sheritta generated and saved as C:/Users/publi/Desktop/Data Science/Certificates5_JPG\\Sheritta.jpg.\n"
     ]
    },
    {
     "name": "stderr",
     "output_type": "stream",
     "text": [
      "C:\\Users\\publi\\AppData\\Local\\Temp\\ipykernel_11784\\707956733.py:55: DeprecationWarning: getsize is deprecated and will be removed in Pillow 10 (2023-07-01). Use getbbox or getlength instead.\n",
      "  if position_font.getsize(line + word)[0] <= max_position_width:\n",
      "C:\\Users\\publi\\AppData\\Local\\Temp\\ipykernel_11784\\707956733.py:63: DeprecationWarning: getsize is deprecated and will be removed in Pillow 10 (2023-07-01). Use getbbox or getlength instead.\n",
      "  total_position_height = len(position_lines) * position_font.getsize(position_lines[0])[1]\n",
      "C:\\Users\\publi\\AppData\\Local\\Temp\\ipykernel_11784\\707956733.py:68: DeprecationWarning: textsize is deprecated and will be removed in Pillow 10 (2023-07-01). Use textbbox or textlength instead.\n",
      "  text_width, text_height = draw.textsize(line, font=position_font)\n"
     ]
    },
    {
     "name": "stdout",
     "output_type": "stream",
     "text": [
      "Certificate image for Shadrack generated and saved as C:/Users/publi/Desktop/Data Science/Certificates5_JPG\\Shadrack.jpg.\n"
     ]
    },
    {
     "name": "stderr",
     "output_type": "stream",
     "text": [
      "C:\\Users\\publi\\AppData\\Local\\Temp\\ipykernel_11784\\707956733.py:55: DeprecationWarning: getsize is deprecated and will be removed in Pillow 10 (2023-07-01). Use getbbox or getlength instead.\n",
      "  if position_font.getsize(line + word)[0] <= max_position_width:\n",
      "C:\\Users\\publi\\AppData\\Local\\Temp\\ipykernel_11784\\707956733.py:63: DeprecationWarning: getsize is deprecated and will be removed in Pillow 10 (2023-07-01). Use getbbox or getlength instead.\n",
      "  total_position_height = len(position_lines) * position_font.getsize(position_lines[0])[1]\n",
      "C:\\Users\\publi\\AppData\\Local\\Temp\\ipykernel_11784\\707956733.py:68: DeprecationWarning: textsize is deprecated and will be removed in Pillow 10 (2023-07-01). Use textbbox or textlength instead.\n",
      "  text_width, text_height = draw.textsize(line, font=position_font)\n"
     ]
    },
    {
     "name": "stdout",
     "output_type": "stream",
     "text": [
      "Certificate image for Haggith generated and saved as C:/Users/publi/Desktop/Data Science/Certificates5_JPG\\Haggith.jpg.\n",
      "Certificate image for Nana Baffour generated and saved as C:/Users/publi/Desktop/Data Science/Certificates5_JPG\\Nana_Baffour.jpg.\n"
     ]
    },
    {
     "name": "stderr",
     "output_type": "stream",
     "text": [
      "C:\\Users\\publi\\AppData\\Local\\Temp\\ipykernel_11784\\707956733.py:55: DeprecationWarning: getsize is deprecated and will be removed in Pillow 10 (2023-07-01). Use getbbox or getlength instead.\n",
      "  if position_font.getsize(line + word)[0] <= max_position_width:\n",
      "C:\\Users\\publi\\AppData\\Local\\Temp\\ipykernel_11784\\707956733.py:63: DeprecationWarning: getsize is deprecated and will be removed in Pillow 10 (2023-07-01). Use getbbox or getlength instead.\n",
      "  total_position_height = len(position_lines) * position_font.getsize(position_lines[0])[1]\n",
      "C:\\Users\\publi\\AppData\\Local\\Temp\\ipykernel_11784\\707956733.py:68: DeprecationWarning: textsize is deprecated and will be removed in Pillow 10 (2023-07-01). Use textbbox or textlength instead.\n",
      "  text_width, text_height = draw.textsize(line, font=position_font)\n",
      "C:\\Users\\publi\\AppData\\Local\\Temp\\ipykernel_11784\\707956733.py:55: DeprecationWarning: getsize is deprecated and will be removed in Pillow 10 (2023-07-01). Use getbbox or getlength instead.\n",
      "  if position_font.getsize(line + word)[0] <= max_position_width:\n",
      "C:\\Users\\publi\\AppData\\Local\\Temp\\ipykernel_11784\\707956733.py:63: DeprecationWarning: getsize is deprecated and will be removed in Pillow 10 (2023-07-01). Use getbbox or getlength instead.\n",
      "  total_position_height = len(position_lines) * position_font.getsize(position_lines[0])[1]\n",
      "C:\\Users\\publi\\AppData\\Local\\Temp\\ipykernel_11784\\707956733.py:68: DeprecationWarning: textsize is deprecated and will be removed in Pillow 10 (2023-07-01). Use textbbox or textlength instead.\n",
      "  text_width, text_height = draw.textsize(line, font=position_font)\n"
     ]
    },
    {
     "name": "stdout",
     "output_type": "stream",
     "text": [
      "Certificate image for Sheritta generated and saved as C:/Users/publi/Desktop/Data Science/Certificates5_JPG\\Sheritta.jpg.\n",
      "JPG certificate images generated.\n"
     ]
    }
   ],
   "source": [
    "from PIL import Image, ImageDraw, ImageFont\n",
    "import csv\n",
    "import os\n",
    "\n",
    "# Load the template image\n",
    "template_path = 'C:/Users/publi/Desktop/Data Science/cert5.jpg'\n",
    "template_image = Image.open(template_path)\n",
    "\n",
    "# Convert the template image to RGB mode\n",
    "template_image = template_image.convert(\"RGB\")\n",
    "\n",
    "print(\"Template image loaded and converted to RGB mode.\")\n",
    "\n",
    "# Load data from the modified CSV file\n",
    "csv_path = 'C:/Users/publi/Desktop/Data Science/Certificates5.csv'\n",
    "with open(csv_path, 'r', encoding='utf-8') as csv_file:\n",
    "    csv_reader = csv.DictReader(csv_file)\n",
    "    \n",
    "    # Define font and text color\n",
    "    font_path = 'C:/Users/publi/Desktop/Data Science/fonts/Poppins-Bold.ttf'\n",
    "    \n",
    "    # Create a directory to save JPG images\n",
    "    jpg_output_dir = 'C:/Users/publi/Desktop/Data Science/Certificates5_JPG'\n",
    "    os.makedirs(jpg_output_dir, exist_ok=True)\n",
    "    \n",
    "    # Loop through each row in the CSV\n",
    "    for row in csv_reader:\n",
    "        name = row['Name']\n",
    "        position = row['Position']\n",
    "        name_x = int(row['Name_X'])\n",
    "        name_y = int(row['Name_Y'])\n",
    "        position_x = int(row['Position_X'])\n",
    "        position_y = int(row['Position_Y'])\n",
    "        \n",
    "        # Create a new image with the template\n",
    "        certificate_image = template_image.copy()\n",
    "        \n",
    "        # Define font and text color for name and position\n",
    "        name_font = ImageFont.truetype(font_path, size=160)\n",
    "        position_font = ImageFont.truetype(font_path, size=130)\n",
    "        text_color = (255, 255, 255)  # White color\n",
    "        \n",
    "        # Draw the name on the image\n",
    "        draw = ImageDraw.Draw(certificate_image)\n",
    "        draw.text((name_x, name_y), name, font=name_font, fill=text_color)\n",
    "        \n",
    "        # Define maximum width for the position text (adjust as needed)\n",
    "        max_position_width = 2000\n",
    "        \n",
    "        # Split the position text into words\n",
    "        position_words = position.split()\n",
    "        position_lines = []\n",
    "        line = ''\n",
    "        for word in position_words:\n",
    "            if position_font.getsize(line + word)[0] <= max_position_width:\n",
    "                line += word + ' '\n",
    "            else:\n",
    "                position_lines.append(line)\n",
    "                line = word + ' '\n",
    "        position_lines.append(line)\n",
    "        \n",
    "        # Calculate the total height for position text\n",
    "        total_position_height = len(position_lines) * position_font.getsize(position_lines[0])[1]\n",
    "        \n",
    "        # Draw the position lines on the image\n",
    "        position_y_start = position_y - total_position_height // 2\n",
    "        for line in position_lines:\n",
    "            text_width, text_height = draw.textsize(line, font=position_font)\n",
    "            draw.text((position_x, position_y_start), line, font=position_font, fill=text_color)\n",
    "            position_y_start += text_height\n",
    "        \n",
    "        # Save the image as a JPG\n",
    "        jpg_output_path = os.path.join(jpg_output_dir, f'{name.replace(\" \", \"_\")}.jpg')\n",
    "        certificate_image.save(jpg_output_path)\n",
    "        \n",
    "        print(f\"Certificate image for {name} generated and saved as {jpg_output_path}.\")\n",
    "    \n",
    "    print(\"JPG certificate images generated.\")\n"
   ]
  },
  {
   "cell_type": "code",
   "execution_count": 16,
   "id": "e076f361",
   "metadata": {},
   "outputs": [
    {
     "name": "stdout",
     "output_type": "stream",
     "text": [
      "Combined PDF saved as C:/Users/publi/Desktop/Data Science/certificates5_combined.pdf.\n"
     ]
    }
   ],
   "source": [
    "from fpdf import FPDF\n",
    "import os\n",
    "\n",
    "# Directory containing the PNG images\n",
    "png_output_dir = 'C:/Users/publi/Desktop/Data Science/Certificates5_JPG'\n",
    "\n",
    "# Output path for the combined PDF\n",
    "pdf_output_path = 'C:/Users/publi/Desktop/Data Science/certificates5_combined.pdf'\n",
    "\n",
    "# Create a PDF object with landscape A4 dimensions\n",
    "pdf = FPDF(orientation='L', unit='mm', format='A4')\n",
    "\n",
    "# Loop through each PNG image in the directory\n",
    "for filename in os.listdir(png_output_dir):\n",
    "    if filename.endswith('.jpg'):\n",
    "        image_path = os.path.join(png_output_dir, filename)\n",
    "        \n",
    "        # Add a page to the PDF with landscape A4 dimensions\n",
    "        pdf.add_page()\n",
    "        \n",
    "        # Set the image as the background for the page\n",
    "        pdf.image(image_path, x=0, y=0, w=297, h=210)  # Landscape A4 dimensions\n",
    "\n",
    "# Save the combined PDF\n",
    "pdf.output(pdf_output_path)\n",
    "print(f\"Combined PDF saved as {pdf_output_path}.\")\n"
   ]
  }
 ],
 "metadata": {
  "kernelspec": {
   "display_name": "Python 3 (ipykernel)",
   "language": "python",
   "name": "python3"
  },
  "language_info": {
   "codemirror_mode": {
    "name": "ipython",
    "version": 3
   },
   "file_extension": ".py",
   "mimetype": "text/x-python",
   "name": "python",
   "nbconvert_exporter": "python",
   "pygments_lexer": "ipython3",
   "version": "3.11.4"
  }
 },
 "nbformat": 4,
 "nbformat_minor": 5
}
