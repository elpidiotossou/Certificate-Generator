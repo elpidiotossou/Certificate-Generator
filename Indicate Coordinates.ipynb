{
 "cells": [
  {
   "cell_type": "code",
   "execution_count": null,
   "id": "b21d4e27",
   "metadata": {},
   "outputs": [],
   "source": [
    "import matplotlib.pyplot as plt\n",
    "from PIL import Image\n",
    "\n",
    "# Load the template image\n",
    "template_path = 'path_to_template_image.jpg'  # Replace with the path to your template image\n",
    "template_image = Image.open(template_path)\n",
    "\n",
    "# Display the image\n",
    "plt.imshow(template_image)\n",
    "plt.axis('off')  # Turn off axis labels and ticks\n",
    "plt.show()\n"
   ]
  },
  {
   "cell_type": "code",
   "execution_count": null,
   "id": "d8d60efa",
   "metadata": {},
   "outputs": [],
   "source": [
    "import matplotlib.pyplot as plt\n",
    "from ipywidgets import interact, IntSlider\n",
    "\n",
    "# Function to display coordinates on the template image\n",
    "@interact(name_x=IntSlider(min=0, max=template_image.width - 1, step=1, value=0),\n",
    "          name_y=IntSlider(min=0, max=template_image.height - 1, step=1, value=0),\n",
    "          position_x=IntSlider(min=0, max=template_image.width - 1, step=1, value=0),\n",
    "          position_y=IntSlider(min=0, max=template_image.height - 1, step=1, value=0))\n",
    "def display_coordinates(name_x, name_y, position_x, position_y):\n",
    "    # Load the template image\n",
    "    template_path = 'path_to_template_image.jpg'  # Replace with the path to your template image\n",
    "    template_image = Image.open(template_path)\n",
    "    \n",
    "    plt.imshow(template_image)\n",
    "    plt.scatter(name_x, name_y, color='red', marker='x', label='Name')  # Mark the selected name coordinates\n",
    "    plt.scatter(position_x, position_y, color='blue', marker='x', label='Position')  # Mark the selected position coordinates\n",
    "    plt.legend()\n",
    "    plt.axis('off')\n",
    "    plt.show()\n"
   ]
  }
 ],
 "metadata": {
  "kernelspec": {
   "display_name": "Python 3 (ipykernel)",
   "language": "python",
   "name": "python3"
  },
  "language_info": {
   "codemirror_mode": {
    "name": "ipython",
    "version": 3
   },
   "file_extension": ".py",
   "mimetype": "text/x-python",
   "name": "python",
   "nbconvert_exporter": "python",
   "pygments_lexer": "ipython3",
   "version": "3.11.4"
  }
 },
 "nbformat": 4,
 "nbformat_minor": 5
}
