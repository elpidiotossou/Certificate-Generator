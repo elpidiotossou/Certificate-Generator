{
 "cells": [
  {
   "cell_type": "code",
   "execution_count": null,
   "id": "3edfd249",
   "metadata": {},
   "outputs": [],
   "source": [
    "Have fun from fpdf import FPDF\n",
    "import os\n",
    "\n",
    "# Directory containing the PNG images\n",
    "png_output_dir = 'path_to_generated_image_folder'\n",
    "\n",
    "# Output path for the combined PDF\n",
    "pdf_output_path = 'C:/Users/publi/Desktop/Data Science/certificates5_combined.pdf'\n",
    "\n",
    "# Create a PDF object with landscape A4 dimensions\n",
    "pdf = FPDF(orientation='L', unit='mm', format='A4')\n",
    "\n",
    "# Loop through each PNG image in the directory\n",
    "for filename in os.listdir(png_output_dir):\n",
    "    if filename.endswith('.jpg'):\n",
    "        image_path = os.path.join(png_output_dir, filename)\n",
    "        \n",
    "        # Add a page to the PDF with landscape A4 dimensions\n",
    "        pdf.add_page()\n",
    "        \n",
    "        # Set the image as the background for the page\n",
    "        pdf.image(image_path, x=0, y=0, w=297, h=210)  # Landscape A4 dimensions\n",
    "\n",
    "# Save the combined PDF\n",
    "pdf.output(pdf_output_path)\n",
    "print(f\"Combined PDF saved as {pdf_output_path}.\")\n"
   ]
  }
 ],
 "metadata": {
  "kernelspec": {
   "display_name": "Python 3 (ipykernel)",
   "language": "python",
   "name": "python3"
  },
  "language_info": {
   "codemirror_mode": {
    "name": "ipython",
    "version": 3
   },
   "file_extension": ".py",
   "mimetype": "text/x-python",
   "name": "python",
   "nbconvert_exporter": "python",
   "pygments_lexer": "ipython3",
   "version": "3.11.4"
  }
 },
 "nbformat": 4,
 "nbformat_minor": 5
}
